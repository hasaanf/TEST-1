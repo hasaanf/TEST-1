{
 "cells": [
  {
   "cell_type": "markdown",
   "id": "c2eb1bc3-5a11-4624-bdb2-bcdd01a1d737",
   "metadata": {},
   "source": [
    "# Data Science Tools and Ecosystem"
   ]
  },
  {
   "cell_type": "markdown",
   "id": "22ddc1c6-5dc9-46db-9e02-0c588ad0625f",
   "metadata": {},
   "source": [
    " In this notebook, Data Science Tools and Ecosystem are summarized. "
   ]
  },
  {
   "cell_type": "markdown",
   "id": "495b24da-9a8f-4fc3-beaa-55ac23f5660b",
   "metadata": {},
   "source": [
    "Some of the popular languages that Data Scientists use are:\n",
    "1. Pyhton\n",
    "2. C++\n",
    "3. SQL"
   ]
  },
  {
   "cell_type": "markdown",
   "id": "47f9c38a-8208-415e-985d-92a508492a6b",
   "metadata": {},
   "source": [
    "Some of the commonly used libraries used by Data Scientists include:\n",
    "1. Matplotlib\n",
    "2. Pandas\n",
    "3. Numpy\n",
    "4. Tensorflow"
   ]
  },
  {
   "cell_type": "markdown",
   "id": "5b7520ef-de35-4289-a154-05806cb1e7fb",
   "metadata": {},
   "source": [
    "|Data Science Tools|\n",
    "|-----|\n",
    "|Jupyter Notebook|\n",
    "|Apache Spark|\n",
    "|Hadoop|\n",
    "\n"
   ]
  },
  {
   "cell_type": "markdown",
   "id": "c7980040-fa3f-4e60-9ae7-822c7d06eb7c",
   "metadata": {},
   "source": [
    "### Below are a few examples of evaluating arithmetic expressions in Python:\n"
   ]
  },
  {
   "cell_type": "markdown",
   "id": "5d696a9f-d6eb-4b37-93ba-ae1126741784",
   "metadata": {},
   "source": [
    "This a simple arithmetic expression to mutiply then add integers:"
   ]
  },
  {
   "cell_type": "code",
   "execution_count": 8,
   "id": "b6ed1f56-bf95-44ae-a181-10dd6cf10257",
   "metadata": {},
   "outputs": [
    {
     "data": {
      "text/plain": [
       "17"
      ]
     },
     "execution_count": 8,
     "metadata": {},
     "output_type": "execute_result"
    }
   ],
   "source": [
    "(3*4)+5"
   ]
  },
  {
   "cell_type": "markdown",
   "id": "cbcef880-54c4-4323-b41c-ba697c1d4fc6",
   "metadata": {},
   "source": [
    "This will convert 200 minutes to hours by diving by 60"
   ]
  },
  {
   "cell_type": "code",
   "execution_count": 9,
   "id": "744123f8-8f5e-49a3-a80f-85bdee206066",
   "metadata": {},
   "outputs": [
    {
     "data": {
      "text/plain": [
       "3.3333333333333335"
      ]
     },
     "execution_count": 9,
     "metadata": {},
     "output_type": "execute_result"
    }
   ],
   "source": [
    "200/60"
   ]
  },
  {
   "cell_type": "markdown",
   "id": "8e3c8374-0cf6-4834-8563-27ad9d4ba4af",
   "metadata": {},
   "source": [
    "## Author\n",
    "Hasaan Malik"
   ]
  },
  {
   "cell_type": "code",
   "execution_count": null,
   "id": "f3d64521-bb01-4a88-b93d-4e2bba12d319",
   "metadata": {},
   "outputs": [],
   "source": []
  }
 ],
 "metadata": {
  "kernelspec": {
   "display_name": "Python 3 (ipykernel)",
   "language": "python",
   "name": "python3"
  },
  "language_info": {
   "codemirror_mode": {
    "name": "ipython",
    "version": 3
   },
   "file_extension": ".py",
   "mimetype": "text/x-python",
   "name": "python",
   "nbconvert_exporter": "python",
   "pygments_lexer": "ipython3",
   "version": "3.8.2"
  }
 },
 "nbformat": 4,
 "nbformat_minor": 5
}
